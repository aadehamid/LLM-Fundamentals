{
 "cells": [
  {
   "cell_type": "code",
   "execution_count": 7,
   "metadata": {},
   "outputs": [],
   "source": [
    "import nltk                         # NLP toolbox\n",
    "from os import getcwd\n",
    "import pandas as pd  # Library for Dataframes\n",
    "from nltk.corpus import twitter_samples\n",
    "import matplotlib.pyplot as plt     # Library for visualization\n",
    "import numpy as np\n",
    "import spacy# Library for math functions\n",
    "import re\n",
    "from typing import Tuple, List, Dict\n",
    "\n",
    "from utils import process_tweet, build_freqs # Our functions for NLP\n",
    "\n",
    "from rich import print\n"
   ]
  },
  {
   "cell_type": "code",
   "execution_count": 2,
   "metadata": {},
   "outputs": [],
   "source": [
    "%%bash\n",
    "\n",
    "# download the statistical model for tokenization\n",
    "# python -m spacy download en_core_web_sm\n"
   ]
  },
  {
   "cell_type": "code",
   "execution_count": 3,
   "metadata": {},
   "outputs": [],
   "source": [
    "nlp = spacy.load('en_core_web_sm')\n"
   ]
  },
  {
   "cell_type": "markdown",
   "metadata": {},
   "source": [
    "## Load the NLTK sample dataset\n"
   ]
  },
  {
   "cell_type": "code",
   "execution_count": 4,
   "metadata": {},
   "outputs": [],
   "source": [
    "# select the set of positive and negative tweets\n",
    "all_positive_tweets = twitter_samples.strings('positive_tweets.json')\n",
    "all_negative_tweets = twitter_samples.strings('negative_tweets.json')\n",
    "tweets = all_positive_tweets + all_negative_tweets # concatenate tweets\n"
   ]
  },
  {
   "cell_type": "markdown",
   "metadata": {},
   "source": [
    "# Data Pre-Processing"
   ]
  },
  {
   "cell_type": "markdown",
   "metadata": {},
   "source": [
    "## Split the dataset into train and test sets\n",
    "\n",
    "- 20% of the dataset goes into the test set\n",
    "- 80% of the dataset goes into the train set"
   ]
  },
  {
   "cell_type": "code",
   "execution_count": 6,
   "metadata": {},
   "outputs": [
    {
     "data": {
      "text/html": [
       "<pre style=\"white-space:pre;overflow-x:auto;line-height:normal;font-family:Menlo,'DejaVu Sans Mono',consolas,'Courier New',monospace\">train_x.shape: <span style=\"color: #008080; text-decoration-color: #008080; font-weight: bold\">8000</span>\n",
       "</pre>\n"
      ],
      "text/plain": [
       "train_x.shape: \u001b[1;36m8000\u001b[0m\n"
      ]
     },
     "metadata": {},
     "output_type": "display_data"
    },
    {
     "data": {
      "text/html": [
       "<pre style=\"white-space:pre;overflow-x:auto;line-height:normal;font-family:Menlo,'DejaVu Sans Mono',consolas,'Courier New',monospace\">test_x.shape: <span style=\"color: #008080; text-decoration-color: #008080; font-weight: bold\">2000</span>\n",
       "</pre>\n"
      ],
      "text/plain": [
       "test_x.shape: \u001b[1;36m2000\u001b[0m\n"
      ]
     },
     "metadata": {},
     "output_type": "display_data"
    }
   ],
   "source": [
    "# Split the dataset into training and validation sets\n",
    "train_pos = all_positive_tweets[:4000]\n",
    "test_pos = all_positive_tweets[4000:]\n",
    "train_neg = all_negative_tweets[:4000]\n",
    "test_neg = all_negative_tweets[4000:]\n",
    "\n",
    "train_x = train_pos + train_neg\n",
    "test_x = test_pos + test_neg\n",
    "print(f\"train_x.shape: {len(train_x)}\")\n",
    "print(f\"test_x.shape: {len(test_x)}\")\n"
   ]
  },
  {
   "cell_type": "code",
   "execution_count": 10,
   "metadata": {},
   "outputs": [
    {
     "data": {
      "text/html": [
       "<pre style=\"white-space:pre;overflow-x:auto;line-height:normal;font-family:Menlo,'DejaVu Sans Mono',consolas,'Courier New',monospace\">train_label.shape: <span style=\"font-weight: bold\">(</span><span style=\"color: #008080; text-decoration-color: #008080; font-weight: bold\">8000</span>, <span style=\"color: #008080; text-decoration-color: #008080; font-weight: bold\">1</span><span style=\"font-weight: bold\">)</span>\n",
       "</pre>\n"
      ],
      "text/plain": [
       "train_label.shape: \u001b[1m(\u001b[0m\u001b[1;36m8000\u001b[0m, \u001b[1;36m1\u001b[0m\u001b[1m)\u001b[0m\n"
      ]
     },
     "metadata": {},
     "output_type": "display_data"
    },
    {
     "data": {
      "text/html": [
       "<pre style=\"white-space:pre;overflow-x:auto;line-height:normal;font-family:Menlo,'DejaVu Sans Mono',consolas,'Courier New',monospace\">test_label.shape: <span style=\"font-weight: bold\">(</span><span style=\"color: #008080; text-decoration-color: #008080; font-weight: bold\">2000</span>, <span style=\"color: #008080; text-decoration-color: #008080; font-weight: bold\">1</span><span style=\"font-weight: bold\">)</span>\n",
       "</pre>\n"
      ],
      "text/plain": [
       "test_label.shape: \u001b[1m(\u001b[0m\u001b[1;36m2000\u001b[0m, \u001b[1;36m1\u001b[0m\u001b[1m)\u001b[0m\n"
      ]
     },
     "metadata": {},
     "output_type": "display_data"
    }
   ],
   "source": [
    "# Create label arrays\n",
    "train_label_pos = np.ones((len(train_pos), 1), dtype=int)\n",
    "train_label_neg = np.zeros((len(train_neg), 1), dtype=int)\n",
    "train_label = np.vstack((train_label_pos, train_label_neg))\n",
    "\n",
    "test_label_pos = np.ones((len(test_pos), 1), dtype=int)\n",
    "test_label_neg = np.zeros((len(test_neg), 1), dtype=int)\n",
    "test_label = np.vstack((test_label_pos, test_label_neg))\n",
    "\n",
    "print(f\"train_label.shape: {train_label.shape}\")\n",
    "print(f\"test_label.shape: {test_label.shape}\")\n"
   ]
  },
  {
   "cell_type": "code",
   "execution_count": 10,
   "metadata": {},
   "outputs": [],
   "source": [
    "# data = pd.read_csv('../data/logistic_features.csv'); # Load a 3 columns csv file using pandas function\n",
    "# data.head(10) # Print the first 10 data entries\n"
   ]
  },
  {
   "cell_type": "code",
   "execution_count": 24,
   "metadata": {},
   "outputs": [
    {
     "data": {
      "text/html": [
       "<pre style=\"white-space:pre;overflow-x:auto;line-height:normal;font-family:Menlo,'DejaVu Sans Mono',consolas,'Courier New',monospace\">Today's #FF - @CurlysCooking @beerandbaking @kneadtodough @vixyvonshock @mariannasbakery @collinscakery \n",
       "@sammiefeasting @NinaVictoriaCup :<span style=\"font-weight: bold\">)</span>\n",
       "</pre>\n"
      ],
      "text/plain": [
       "Today's #FF - @CurlysCooking @beerandbaking @kneadtodough @vixyvonshock @mariannasbakery @collinscakery \n",
       "@sammiefeasting @NinaVictoriaCup :\u001b[1m)\u001b[0m\n"
      ]
     },
     "metadata": {},
     "output_type": "display_data"
    }
   ],
   "source": [
    "# data exploration\n",
    "# Choose a randomly selected tweet\n",
    "sample_tweet = train_x[np.random.randint(0, len(train_x))]\n",
    "print(sample_tweet)\n"
   ]
  },
  {
   "cell_type": "markdown",
   "metadata": {},
   "source": [
    "A tweet may contains the following information:\n",
    " - hashtags\n",
    " - urls\n",
    " - mentions\n",
    "\n",
    "We will remove these information from the tweet text."
   ]
  },
  {
   "cell_type": "code",
   "execution_count": 54,
   "metadata": {},
   "outputs": [],
   "source": [
    "def remove_special_characters(tweet: str) -> Tuple[List[str], spacy.tokens.Doc]:\n",
    "    \"\"\"\n",
    "    Function to remove special characters from a tweet and return a cleaned tweet and a Spacy Doc object.\n",
    "\n",
    "    Parameters:\n",
    "    tweet (str): The original tweet as a string.\n",
    "\n",
    "    Returns:\n",
    "    Tuple[List[str], spacy.tokens.Doc]: A tuple containing a list of lemmatized words from the cleaned tweet and a Spacy Doc object.\n",
    "    \"\"\"\n",
    "    # remove hashtags\n",
    "    tweet = re.sub(r'#', '', tweet)\n",
    "    # remove urls\n",
    "    tweet = re.sub(r'http\\S+', '', tweet)\n",
    "    # remove mentions\n",
    "    tweet = re.sub(r'@\\w+', '', tweet)\n",
    "    # remove hyperlinks\n",
    "    tweet = re.sub(r'https?://[^\\s\\n\\r]+', '', tweet)\n",
    "    # remove handles in tweet\n",
    "    tweet = re.sub(r'@[^\\s\\n\\r]+', '', tweet)\n",
    "\n",
    "    # create a Spacy doc container for the tweets\n",
    "    doc = nlp(tweet)\n",
    "    # Lemmatize, remove stopwords and punctuation\n",
    "    # List comprehension is used to iterate over the tokens in the doc\n",
    "    # Only tokens that are not stop words, punctuation, or spaces are included in the clean_tweet list\n",
    "    clean_tweet = [token.lemma_  for token in doc if not token.is_stop and not token.is_punct and not token.is_space]\n",
    "\n",
    "    return clean_tweet, doc\n"
   ]
  },
  {
   "cell_type": "code",
   "execution_count": 80,
   "metadata": {},
   "outputs": [
    {
     "data": {
      "text/html": [
       "<pre style=\"white-space:pre;overflow-x:auto;line-height:normal;font-family:Menlo,'DejaVu Sans Mono',consolas,'Courier New',monospace\">This is an example of a positive tweet: \n",
       " #FollowFriday @France_Inte @PKuchly57 @Milipol_Paris for being top engaged members in my community this week :<span style=\"font-weight: bold\">)</span>\n",
       "</pre>\n"
      ],
      "text/plain": [
       "This is an example of a positive tweet: \n",
       " #FollowFriday @France_Inte @PKuchly57 @Milipol_Paris for being top engaged members in my community this week :\u001b[1m)\u001b[0m\n"
      ]
     },
     "metadata": {},
     "output_type": "display_data"
    },
    {
     "data": {
      "text/html": [
       "<pre style=\"white-space:pre;overflow-x:auto;line-height:normal;font-family:Menlo,'DejaVu Sans Mono',consolas,'Courier New',monospace\">\n",
       "This is an example of the processed version of the tweet: \n",
       "\n",
       "<span style=\"font-weight: bold\">[</span><span style=\"color: #008000; text-decoration-color: #008000\">'FollowFriday'</span>, <span style=\"color: #008000; text-decoration-color: #008000\">'engage'</span>, <span style=\"color: #008000; text-decoration-color: #008000\">'member'</span>, <span style=\"color: #008000; text-decoration-color: #008000\">'community'</span>, <span style=\"color: #008000; text-decoration-color: #008000\">'week'</span><span style=\"font-weight: bold\">]</span>\n",
       "</pre>\n"
      ],
      "text/plain": [
       "\n",
       "This is an example of the processed version of the tweet: \n",
       "\n",
       "\u001b[1m[\u001b[0m\u001b[32m'FollowFriday'\u001b[0m, \u001b[32m'engage'\u001b[0m, \u001b[32m'member'\u001b[0m, \u001b[32m'community'\u001b[0m, \u001b[32m'week'\u001b[0m\u001b[1m]\u001b[0m\n"
      ]
     },
     "metadata": {},
     "output_type": "display_data"
    }
   ],
   "source": [
    "# test the function remove_special_characters\n",
    "# test the function below\n",
    "# test the function below\n",
    "print('This is an example of a positive tweet: \\n', train_x[0])\n",
    "print('\\nThis is an example of the processed version of the tweet: \\n', remove_special_characters(train_x[0])[0])\n"
   ]
  },
  {
   "cell_type": "markdown",
   "metadata": {},
   "source": [
    "Count the number of words that words that exit in a positive and negative sentiment"
   ]
  },
  {
   "cell_type": "code",
   "execution_count": 12,
   "metadata": {},
   "outputs": [],
   "source": [
    "def count_freq(tweets: List[str], labels: np.ndarray) -> Dict[Tuple[str, int], int]:\n",
    "    \"\"\"\n",
    "    Function to count the frequency of each word in the tweets for each label.\n",
    "\n",
    "    Parameters:\n",
    "    tweets (List[str]): A list of tweets.\n",
    "    labels (np.ndarray): A numpy array of labels corresponding to the tweets.\n",
    "\n",
    "    Returns:\n",
    "    Dict[Tuple[str, int], int]: A dictionary where the keys are tuples containing a word from a tweet and its corresponding label, and the values are the frequencies of these tuples in the tweets.\n",
    "    \"\"\"\n",
    "    # convert labels from numpy array to list\n",
    "    labels_list = np.squeeze(labels).tolist()\n",
    "    freqs = {}\n",
    "    # get a tweet and its corresponding label\n",
    "    for tweet, label in zip(tweets, labels_list):\n",
    "        # clean the tweet and get the list of words\n",
    "        # clean_tweet, _ = remove_special_characters(tweet)\n",
    "        clean_tweet = process_tweet(tweet)\n",
    "        # iterate over the words in the cleaned tweet\n",
    "        for word in clean_tweet:\n",
    "            # create a pair of the word and its label\n",
    "            pair = (word, label)\n",
    "            # if the pair is not in the dictionary, get() method returns 0\n",
    "            # increment the count of the pair in the dictionary by 1\n",
    "            if pair in freqs:\n",
    "                freqs[pair] += 1\n",
    "            else:\n",
    "                freqs[pair] = 1\n",
    "    return freqs\n"
   ]
  },
  {
   "cell_type": "code",
   "execution_count": 14,
   "metadata": {},
   "outputs": [
    {
     "data": {
      "text/html": [
       "<pre style=\"white-space:pre;overflow-x:auto;line-height:normal;font-family:Menlo,'DejaVu Sans Mono',consolas,'Courier New',monospace\"><span style=\"color: #008080; text-decoration-color: #008080; font-weight: bold\">11427</span>\n",
       "</pre>\n"
      ],
      "text/plain": [
       "\u001b[1;36m11427\u001b[0m\n"
      ]
     },
     "metadata": {},
     "output_type": "display_data"
    },
    {
     "data": {
      "text/html": [
       "<pre style=\"white-space:pre;overflow-x:auto;line-height:normal;font-family:Menlo,'DejaVu Sans Mono',consolas,'Courier New',monospace\"><span style=\"color: #008080; text-decoration-color: #008080; font-weight: bold\">4604</span>\n",
       "</pre>\n"
      ],
      "text/plain": [
       "\u001b[1;36m4604\u001b[0m\n"
      ]
     },
     "metadata": {},
     "output_type": "display_data"
    }
   ],
   "source": [
    "train_word_freqs = count_freq(train_x, train_label)\n",
    "test_word_freqs = count_freq(test_x, test_label)\n",
    "print(len(train_word_freqs))\n",
    "print(len(test_word_freqs))\n",
    "# print(f\"train_word_freqs[('happy', 1)]: {train_word_freqs[('happy', 1)]}\")\n"
   ]
  },
  {
   "cell_type": "markdown",
   "metadata": {},
   "source": [
    "#### Logistic Regression: Regression and a Sigmoid\n",
    "\n",
    "Logistic regression takes a regular linear regression, and applies a sigmoid to the output of the linear regression.\n",
    "\n",
    "Regression:\n",
    "$$z = \\theta_0 x_0 + \\theta_1 x_1 + \\theta_2 x_2 + ... \\theta_N x_N$$\n",
    "Note that the $\\theta$ values are \"weights\". If you took the deep learning specialization, we referred to the weights with the 'w' vector.  In this course, we're using a different variable $\\theta$ to refer to the weights.\n",
    "\n",
    "Logistic regression\n",
    "$$ h(z) = \\frac{1}{1+\\exp^{-z}}$$\n",
    "$$z = \\theta_0 x_0 + \\theta_1 x_1 + \\theta_2 x_2 + ... \\theta_N x_N$$\n",
    "We will refer to 'z' as the 'logits'."
   ]
  },
  {
   "cell_type": "markdown",
   "metadata": {},
   "source": [
    "<a name='1-2'></a>\n",
    "### 1.2 - Cost function and Gradient\n",
    "\n",
    "The cost function used for logistic regression is the average of the log loss across all training examples:\n",
    "\n",
    "$$J(\\theta) = -\\frac{1}{m} \\sum_{i=1}^m y^{(i)}\\log (h(z(\\theta)^{(i)})) + (1-y^{(i)})\\log (1-h(z(\\theta)^{(i)}))\\tag{5} $$\n",
    "* $m$ is the number of training examples\n",
    "* $y^{(i)}$ is the actual label of training example 'i'.\n",
    "* $h(z^{(i)})$ is the model's prediction for the training example 'i'.\n",
    "\n",
    "The loss function for a single training example is\n",
    "$$ Loss = -1 \\times \\left( y^{(i)}\\log (h(z(\\theta)^{(i)})) + (1-y^{(i)})\\log (1-h(z(\\theta)^{(i)})) \\right)$$\n",
    "\n",
    "* All the $h$ values are between 0 and 1, so the logs will be negative. That is the reason for the factor of -1 applied to the sum of the two loss terms.\n",
    "* Note that when the model predicts 1 ($h(z(\\theta)) = 1$) and the label 'y' is also 1, the loss for that training example is 0. \n",
    "* Similarly, when the model predicts 0 ($h(z(\\theta)) = 0$) and the actual label is also 0, the loss for that training example is 0. \n",
    "* However, when the model prediction is close to 1 ($h(z(\\theta)) = 0.9999$) and the label is 0, the second term of the log loss becomes a large negative number, which is then multiplied by the overall factor of -1 to convert it to a positive loss value. $-1 \\times (1 - 0) \\times log(1 - 0.9999) \\approx 9.2$ The closer the model prediction gets to 1, the larger the loss."
   ]
  },
  {
   "cell_type": "code",
   "execution_count": 15,
   "metadata": {},
   "outputs": [],
   "source": [
    "def sigmoid(z: np.ndarray) -> np.ndarray:\n",
    "    \"\"\"\n",
    "    Function to compute the sigmoid of z.\n",
    "\n",
    "    Parameters:\n",
    "    z (np.ndarray): Input value or array of values.\n",
    "\n",
    "    Returns:\n",
    "    np.ndarray: Sigmoid of the input value or array of values.\n",
    "    \"\"\"\n",
    "    # Compute the sigmoid of z\n",
    "    h = 1 / (1 + np.exp(-z))\n",
    "    return h\n"
   ]
  },
  {
   "cell_type": "code",
   "execution_count": 16,
   "metadata": {},
   "outputs": [],
   "source": [
    "# create a cost function for logistic regression\n",
    "def cost_func(h: np.ndarray, y: np.ndarray) -> float:\n",
    "    \"\"\"\n",
    "    Function to compute the cost of the logistic regression.\n",
    "\n",
    "    Parameters:\n",
    "    h (np.ndarray): The sigmoid of the input values.\n",
    "    y (np.ndarray): The actual labels.\n",
    "\n",
    "    Returns:\n",
    "    float: The cost of the logistic regression.\n",
    "    \"\"\"\n",
    "    # compute the cost\n",
    "    m = y.shape[0]\n",
    "    cost = (-1/m) *  ( np.dot(y.T, np.log(h)) + np.dot(( 1 -y).T, np.log( 1 - h)))\n",
    "    return cost\n"
   ]
  },
  {
   "cell_type": "markdown",
   "metadata": {},
   "source": [
    "#### Update the weights\n",
    "\n",
    "To update your weight vector $\\theta$, you will apply gradient descent to iteratively improve your model's predictions.\n",
    "The gradient of the cost function $J$ with respect to one of the weights $\\theta_j$ is:\n",
    "\n",
    "$$\\nabla_{\\theta_j}J(\\theta) = \\frac{1}{m} \\sum_{i=1}^m(h^{(i)}-y^{(i)})x^{(i)}_j \\tag{5}$$\n",
    "* 'i' is the index across all 'm' training examples.\n",
    "* 'j' is the index of the weight $\\theta_j$, so $x^{(i)}_j$ is the feature associated with weight $\\theta_j$\n",
    "\n",
    "* To update the weight $\\theta_j$, we adjust it by subtracting a fraction of the gradient determined by $\\alpha$:\n",
    "$$\\theta_j = \\theta_j - \\alpha \\times \\nabla_{\\theta_j}J(\\theta) $$\n",
    "* The learning rate $\\alpha$ is a value that we choose to control how big a single update will be.\n"
   ]
  },
  {
   "cell_type": "markdown",
   "metadata": {},
   "source": [
    "<a name='ex-2'></a>\n",
    "### gradientDescent\n",
    "Implement gradient descent function.\n",
    "* The number of iterations 'num_iters\" is the number of times that you'll use the entire training set.\n",
    "* For each iteration, you'll calculate the cost function using all training examples (there are 'm' training examples), and for all features.\n",
    "* Instead of updating a single weight $\\theta_i$ at a time, we can update all the weights in the column vector:  \n",
    "$$\\mathbf{\\theta} = \\begin{pmatrix}\n",
    "\\theta_0\n",
    "\\\\\n",
    "\\theta_1\n",
    "\\\\ \n",
    "\\theta_2 \n",
    "\\\\ \n",
    "\\vdots\n",
    "\\\\ \n",
    "\\theta_n\n",
    "\\end{pmatrix}$$\n",
    "* $\\mathbf{\\theta}$ has dimensions (n+1, 1), where 'n' is the number of features, and there is one more element for the bias term $\\theta_0$ (note that the corresponding feature value $\\mathbf{x_0}$ is 1).\n",
    "* The 'logits', 'z', are calculated by multiplying the feature matrix 'x' with the weight vector 'theta'.  $z = \\mathbf{x}\\mathbf{\\theta}$\n",
    "    * $\\mathbf{x}$ has dimensions (m, n+1) \n",
    "    * $\\mathbf{\\theta}$: has dimensions (n+1, 1)\n",
    "    * $\\mathbf{z}$: has dimensions (m, 1)\n",
    "* The prediction 'h', is calculated by applying the sigmoid to each element in 'z': $h(z) = sigmoid(z)$, and has dimensions (m,1).\n",
    "* The cost function $J$ is calculated by taking the dot product of the vectors 'y' and 'log(h)'.  Since both 'y' and 'h' are column vectors (m,1), transpose the vector to the left, so that matrix multiplication of a row vector with column vector performs the dot product.\n",
    "$$J = \\frac{-1}{m} \\times \\left(\\mathbf{y}^T \\cdot log(\\mathbf{h}) + \\mathbf{(1-y)}^T \\cdot log(\\mathbf{1-h}) \\right)$$\n",
    "* The update of theta is also vectorized.  Because the dimensions of $\\mathbf{x}$ are (m, n+1), and both $\\mathbf{h}$ and $\\mathbf{y}$ are (m, 1), we need to transpose the $\\mathbf{x}$ and place it on the left in order to perform matrix multiplication, which then yields the (n+1, 1) answer we need:\n",
    "$$\\mathbf{\\theta} = \\mathbf{\\theta} - \\frac{\\alpha}{m} \\times \\left( \\mathbf{x}^T \\cdot \\left( \\mathbf{h-y} \\right) \\right)$$"
   ]
  },
  {
   "cell_type": "code",
   "execution_count": 17,
   "metadata": {},
   "outputs": [],
   "source": [
    "def gradientDescent(x: np.ndarray, y: np.ndarray, theta: np.ndarray, alpha: float, num_iters: int) -> Tuple[float, np.ndarray]:\n",
    "    \"\"\"\n",
    "    Function to perform gradient descent on the logistic regression model.\n",
    "\n",
    "    Parameters:\n",
    "    x (np.ndarray): Matrix of features which is (m,n+1).\n",
    "    y (np.ndarray): Corresponding labels of the input matrix x, dimensions (m,1).\n",
    "    theta (np.ndarray): Weight vector of dimension (n+1,1).\n",
    "    alpha (float): Learning rate.\n",
    "    num_iters (int): Number of iterations you want to train your model for.\n",
    "\n",
    "    Returns:\n",
    "    Tuple[float, np.ndarray]: The final cost and the final weight vector.\n",
    "    \"\"\"\n",
    "    # get 'm', the number of rows in matrix x\n",
    "    m = x.shape[0]\n",
    "\n",
    "    for i in range(0, num_iters):\n",
    "\n",
    "        # get z, the dot product of x and theta\n",
    "        z = np.dot(x, theta)\n",
    "\n",
    "        # get the sigmoid of z\n",
    "        h = sigmoid(z)\n",
    "\n",
    "        # calculate the cost function\n",
    "        J = cost_func(h, y)\n",
    "\n",
    "        # update the weights theta\n",
    "        theta = theta - (alpha/m) * (np.dot(x.T, (h - y)))\n",
    "\n",
    "    J = float(J)\n",
    "    return J, theta\n"
   ]
  },
  {
   "cell_type": "code",
   "execution_count": 19,
   "metadata": {},
   "outputs": [
    {
     "name": "stderr",
     "output_type": "stream",
     "text": [
      "/tmp/ipykernel_47619/2734493179.py:32: DeprecationWarning: Conversion of an array with ndim > 0 to a scalar is deprecated, and will error in future. Ensure you extract a single element from your array before performing this operation. (Deprecated NumPy 1.25.)\n",
      "  J = float(J)\n"
     ]
    },
    {
     "data": {
      "text/html": [
       "<pre style=\"white-space:pre;overflow-x:auto;line-height:normal;font-family:Menlo,'DejaVu Sans Mono',consolas,'Courier New',monospace\">The cost after training is <span style=\"color: #008080; text-decoration-color: #008080; font-weight: bold\">0.67094970</span>.\n",
       "</pre>\n"
      ],
      "text/plain": [
       "The cost after training is \u001b[1;36m0.67094970\u001b[0m.\n"
      ]
     },
     "metadata": {},
     "output_type": "display_data"
    },
    {
     "data": {
      "text/html": [
       "<pre style=\"white-space:pre;overflow-x:auto;line-height:normal;font-family:Menlo,'DejaVu Sans Mono',consolas,'Courier New',monospace\">The resulting vector of weights is <span style=\"font-weight: bold\">[</span><span style=\"color: #008080; text-decoration-color: #008080; font-weight: bold\">4.1e-07</span>, <span style=\"color: #008080; text-decoration-color: #008080; font-weight: bold\">0.00035658</span>, <span style=\"color: #008080; text-decoration-color: #008080; font-weight: bold\">7.309e-05</span><span style=\"font-weight: bold\">]</span>\n",
       "</pre>\n"
      ],
      "text/plain": [
       "The resulting vector of weights is \u001b[1m[\u001b[0m\u001b[1;36m4.1e-07\u001b[0m, \u001b[1;36m0.00035658\u001b[0m, \u001b[1;36m7.309e-05\u001b[0m\u001b[1m]\u001b[0m\n"
      ]
     },
     "metadata": {},
     "output_type": "display_data"
    }
   ],
   "source": [
    "# Check the function\n",
    "# Construct a synthetic test case using numpy PRNG functions\n",
    "np.random.seed(1)\n",
    "# X input is 10 x 3 with ones for the bias terms\n",
    "tmp_X = np.append(np.ones((10, 1)), np.random.rand(10, 2) * 2000, axis=1)\n",
    "# Y Labels are 10 x 1\n",
    "tmp_Y = (np.random.rand(10, 1) > 0.35).astype(float)\n",
    "\n",
    "# Apply gradient descent\n",
    "tmp_J, tmp_theta = gradientDescent(tmp_X, tmp_Y, np.zeros((3, 1)), 1e-8, 700)\n",
    "print(f\"The cost after training is {tmp_J:.8f}.\")\n",
    "print(f\"The resulting vector of weights is {[round(t, 8) for t in np.squeeze(tmp_theta)]}\")\n"
   ]
  },
  {
   "cell_type": "markdown",
   "metadata": {},
   "source": [
    "#### Expected output\n",
    "```\n",
    "The cost after training is 0.67094970.\n",
    "The resulting vector of weights is [4.1e-07, 0.00035658, 7.309e-05]\n",
    "```"
   ]
  },
  {
   "cell_type": "markdown",
   "metadata": {},
   "source": [
    "# Extract Features for Training"
   ]
  },
  {
   "cell_type": "code",
   "execution_count": 47,
   "metadata": {},
   "outputs": [],
   "source": [
    "def extract_features(tweet: str, freqs: Dict[Tuple[str, int], int], process_tweet=process_tweet) -> np.ndarray:\n",
    "    \"\"\"\n",
    "    Function to extract features from a tweet.\n",
    "\n",
    "    Parameters:\n",
    "    tweet (str): A string containing one tweet.\n",
    "    freqs (Dict[Tuple[str, int], int]): A dictionary corresponding to the frequencies of each tuple (word, label).\n",
    "    process_tweet (function): A function used to process the tweet.\n",
    "\n",
    "    Returns:\n",
    "    np.ndarray: A feature vector of dimension (1,3).\n",
    "    \"\"\"\n",
    "    # process_tweet tokenizes, stems, and removes stopwords\n",
    "    word_l  = process_tweet(tweet)\n",
    "\n",
    "    # 3 elements for [bias, positive, negative] counts\n",
    "    x = np.zeros(3)\n",
    "\n",
    "    # bias term is set to 1\n",
    "    x[0] = 1\n",
    "\n",
    "    # loop through each word in the list of words\n",
    "    for word in word_l:\n",
    "\n",
    "        # increment the word count for the positive label 1\n",
    "        x[1] += freqs.get((word, 1), 0)\n",
    "\n",
    "        # increment the word count for the negative label 0\n",
    "        x[2] += freqs.get((word, 0), 0)\n",
    "\n",
    "    x = x[None, :]  # adding batch dimension for further processing\n",
    "    assert(x.shape == (1, 3))\n",
    "    return x\n"
   ]
  },
  {
   "cell_type": "code",
   "execution_count": 44,
   "metadata": {},
   "outputs": [
    {
     "data": {
      "text/html": [
       "<pre style=\"white-space:pre;overflow-x:auto;line-height:normal;font-family:Menlo,'DejaVu Sans Mono',consolas,'Courier New',monospace\"><span style=\"font-weight: bold\">[[</span><span style=\"color: #008080; text-decoration-color: #008080; font-weight: bold\">1.000e+00</span> <span style=\"color: #008080; text-decoration-color: #008080; font-weight: bold\">3.133e+03</span> <span style=\"color: #008080; text-decoration-color: #008080; font-weight: bold\">6.100e+01</span><span style=\"font-weight: bold\">]]</span>\n",
       "</pre>\n"
      ],
      "text/plain": [
       "\u001b[1m[\u001b[0m\u001b[1m[\u001b[0m\u001b[1;36m1.000e+00\u001b[0m \u001b[1;36m3.133e+03\u001b[0m \u001b[1;36m6.100e+01\u001b[0m\u001b[1m]\u001b[0m\u001b[1m]\u001b[0m\n"
      ]
     },
     "metadata": {},
     "output_type": "display_data"
    }
   ],
   "source": [
    "# Check your function\n",
    "# test 1\n",
    "# test on training data\n",
    "tmp1 = extract_features(train_x[0], train_word_freqs, process_tweet)\n",
    "print(tmp1)\n"
   ]
  },
  {
   "cell_type": "code",
   "execution_count": 24,
   "metadata": {},
   "outputs": [
    {
     "data": {
      "text/html": [
       "<pre style=\"white-space:pre;overflow-x:auto;line-height:normal;font-family:Menlo,'DejaVu Sans Mono',consolas,'Courier New',monospace\"><span style=\"font-weight: bold\">[[</span><span style=\"color: #008080; text-decoration-color: #008080; font-weight: bold\">1</span>. <span style=\"color: #008080; text-decoration-color: #008080; font-weight: bold\">0</span>. <span style=\"color: #008080; text-decoration-color: #008080; font-weight: bold\">0</span>.<span style=\"font-weight: bold\">]]</span>\n",
       "</pre>\n"
      ],
      "text/plain": [
       "\u001b[1m[\u001b[0m\u001b[1m[\u001b[0m\u001b[1;36m1\u001b[0m. \u001b[1;36m0\u001b[0m. \u001b[1;36m0\u001b[0m.\u001b[1m]\u001b[0m\u001b[1m]\u001b[0m\n"
      ]
     },
     "metadata": {},
     "output_type": "display_data"
    }
   ],
   "source": [
    "# test 2:\n",
    "# check for when the words are not in the freqs dictionary\n",
    "tmp2 = extract_features('blorb bleeeeb bloooob', train_word_freqs)\n",
    "print(tmp2)\n"
   ]
  },
  {
   "cell_type": "markdown",
   "metadata": {},
   "source": [
    "#### Expected output\n",
    "```\n",
    "[[1. 0. 0.]]\n",
    "```"
   ]
  },
  {
   "cell_type": "markdown",
   "metadata": {},
   "source": [
    "<a name='3'></a>\n",
    "## 3 - Training Your Model\n",
    "\n",
    "To train the model:\n",
    "* Stack the features for all training examples into a matrix X. \n",
    "* Call `gradientDescent`, which you've implemented above.\n",
    "\n",
    "This section is given to you.  Please read it for understanding and run the cell."
   ]
  },
  {
   "cell_type": "code",
   "execution_count": 25,
   "metadata": {},
   "outputs": [
    {
     "name": "stderr",
     "output_type": "stream",
     "text": [
      "/tmp/ipykernel_47619/2734493179.py:32: DeprecationWarning: Conversion of an array with ndim > 0 to a scalar is deprecated, and will error in future. Ensure you extract a single element from your array before performing this operation. (Deprecated NumPy 1.25.)\n",
      "  J = float(J)\n"
     ]
    },
    {
     "data": {
      "text/html": [
       "<pre style=\"white-space:pre;overflow-x:auto;line-height:normal;font-family:Menlo,'DejaVu Sans Mono',consolas,'Courier New',monospace\">The cost after training is <span style=\"color: #008080; text-decoration-color: #008080; font-weight: bold\">0.22521264</span>.\n",
       "</pre>\n"
      ],
      "text/plain": [
       "The cost after training is \u001b[1;36m0.22521264\u001b[0m.\n"
      ]
     },
     "metadata": {},
     "output_type": "display_data"
    },
    {
     "data": {
      "text/html": [
       "<pre style=\"white-space:pre;overflow-x:auto;line-height:normal;font-family:Menlo,'DejaVu Sans Mono',consolas,'Courier New',monospace\">The resulting vector of weights is <span style=\"font-weight: bold\">[</span><span style=\"color: #008080; text-decoration-color: #008080; font-weight: bold\">6e-08</span>, <span style=\"color: #008080; text-decoration-color: #008080; font-weight: bold\">0.0005382</span>, <span style=\"color: #008080; text-decoration-color: #008080; font-weight: bold\">-0.0005583</span><span style=\"font-weight: bold\">]</span>\n",
       "</pre>\n"
      ],
      "text/plain": [
       "The resulting vector of weights is \u001b[1m[\u001b[0m\u001b[1;36m6e-08\u001b[0m, \u001b[1;36m0.0005382\u001b[0m, \u001b[1;36m-0.0005583\u001b[0m\u001b[1m]\u001b[0m\n"
      ]
     },
     "metadata": {},
     "output_type": "display_data"
    }
   ],
   "source": [
    "# collect the features 'x' and stack them into a matrix 'X'\n",
    "X = np.zeros((len(train_x), 3))\n",
    "for i in range(len(train_x)):\n",
    "    X[i, :]= extract_features(train_x[i], train_word_freqs)\n",
    "\n",
    "# training labels corresponding to X\n",
    "Y = train_label\n",
    "\n",
    "# Apply gradient descent\n",
    "J, theta = gradientDescent(X, Y, np.zeros((3, 1)), 1e-9, 1500)\n",
    "print(f\"The cost after training is {J:.8f}.\")\n",
    "print(f\"The resulting vector of weights is {[round(t, 8) for t in np.squeeze(theta)]}\")\n"
   ]
  },
  {
   "cell_type": "markdown",
   "metadata": {},
   "source": [
    "<a name='4'></a>\n",
    "## 4 -  Test your Logistic Regression\n",
    "\n",
    "It is time for you to test your logistic regression function on some new input that your model has not seen before. \n",
    "<a name='ex-4'></a>\n",
    "###  predict_tweet\n",
    "Implement `predict_tweet`.\n",
    "Predict whether a tweet is positive or negative.\n",
    "\n",
    "* Given a tweet, process it, then extract the features.\n",
    "* Apply the model's learned weights on the features to get the logits.\n",
    "* Apply the sigmoid to the logits to get the prediction (a value between 0 and 1).\n",
    "\n",
    "$$y_{pred} = sigmoid(\\mathbf{x} \\cdot \\theta)$$"
   ]
  },
  {
   "cell_type": "code",
   "execution_count": 48,
   "metadata": {},
   "outputs": [],
   "source": [
    "def predict_tweet(tweet: str, freqs: Dict[Tuple[str, int], int], theta: np.ndarray) -> float:\n",
    "    \"\"\"\n",
    "    Function to predict whether a given tweet is positive or negative.\n",
    "\n",
    "    Parameters:\n",
    "    tweet (str): A string containing one tweet.\n",
    "    freqs (Dict[Tuple[str, int], int]): A dictionary corresponding to the frequencies of each tuple (word, label).\n",
    "    theta (np.ndarray): (3,1) vector of weights.\n",
    "\n",
    "    Returns:\n",
    "    float: The probability of a tweet being positive or negative.\n",
    "    \"\"\"\n",
    "    # extract the features of the tweet and store it into x\n",
    "    x = extract_features(tweet, freqs)\n",
    "\n",
    "    # make the prediction using x and theta\n",
    "    y_pred = sigmoid(np.dot(x, theta))\n",
    "\n",
    "    return y_pred\n"
   ]
  },
  {
   "cell_type": "code",
   "execution_count": 50,
   "metadata": {},
   "outputs": [
    {
     "name": "stderr",
     "output_type": "stream",
     "text": [
      "/tmp/ipykernel_47619/3751981410.py:3: DeprecationWarning: Conversion of an array with ndim > 0 to a scalar is deprecated, and will error in future. Ensure you extract a single element from your array before performing this operation. (Deprecated NumPy 1.25.)\n",
      "  print( '%s -> %f' % (tweet, predict_tweet(tweet, train_word_freqs, theta)))\n"
     ]
    },
    {
     "data": {
      "text/html": [
       "<pre style=\"white-space:pre;overflow-x:auto;line-height:normal;font-family:Menlo,'DejaVu Sans Mono',consolas,'Courier New',monospace\">I am happy -&gt; <span style=\"color: #008080; text-decoration-color: #008080; font-weight: bold\">0.519275</span>\n",
       "</pre>\n"
      ],
      "text/plain": [
       "I am happy -> \u001b[1;36m0.519275\u001b[0m\n"
      ]
     },
     "metadata": {},
     "output_type": "display_data"
    },
    {
     "data": {
      "text/html": [
       "<pre style=\"white-space:pre;overflow-x:auto;line-height:normal;font-family:Menlo,'DejaVu Sans Mono',consolas,'Courier New',monospace\">I am bad -&gt; <span style=\"color: #008080; text-decoration-color: #008080; font-weight: bold\">0.494347</span>\n",
       "</pre>\n"
      ],
      "text/plain": [
       "I am bad -> \u001b[1;36m0.494347\u001b[0m\n"
      ]
     },
     "metadata": {},
     "output_type": "display_data"
    },
    {
     "data": {
      "text/html": [
       "<pre style=\"white-space:pre;overflow-x:auto;line-height:normal;font-family:Menlo,'DejaVu Sans Mono',consolas,'Courier New',monospace\">this movie should have been great. -&gt; <span style=\"color: #008080; text-decoration-color: #008080; font-weight: bold\">0.515980</span>\n",
       "</pre>\n"
      ],
      "text/plain": [
       "this movie should have been great. -> \u001b[1;36m0.515980\u001b[0m\n"
      ]
     },
     "metadata": {},
     "output_type": "display_data"
    },
    {
     "data": {
      "text/html": [
       "<pre style=\"white-space:pre;overflow-x:auto;line-height:normal;font-family:Menlo,'DejaVu Sans Mono',consolas,'Courier New',monospace\">great -&gt; <span style=\"color: #008080; text-decoration-color: #008080; font-weight: bold\">0.516065</span>\n",
       "</pre>\n"
      ],
      "text/plain": [
       "great -> \u001b[1;36m0.516065\u001b[0m\n"
      ]
     },
     "metadata": {},
     "output_type": "display_data"
    },
    {
     "data": {
      "text/html": [
       "<pre style=\"white-space:pre;overflow-x:auto;line-height:normal;font-family:Menlo,'DejaVu Sans Mono',consolas,'Courier New',monospace\">great great -&gt; <span style=\"color: #008080; text-decoration-color: #008080; font-weight: bold\">0.532097</span>\n",
       "</pre>\n"
      ],
      "text/plain": [
       "great great -> \u001b[1;36m0.532097\u001b[0m\n"
      ]
     },
     "metadata": {},
     "output_type": "display_data"
    },
    {
     "data": {
      "text/html": [
       "<pre style=\"white-space:pre;overflow-x:auto;line-height:normal;font-family:Menlo,'DejaVu Sans Mono',consolas,'Courier New',monospace\">great great great -&gt; <span style=\"color: #008080; text-decoration-color: #008080; font-weight: bold\">0.548063</span>\n",
       "</pre>\n"
      ],
      "text/plain": [
       "great great great -> \u001b[1;36m0.548063\u001b[0m\n"
      ]
     },
     "metadata": {},
     "output_type": "display_data"
    },
    {
     "data": {
      "text/html": [
       "<pre style=\"white-space:pre;overflow-x:auto;line-height:normal;font-family:Menlo,'DejaVu Sans Mono',consolas,'Courier New',monospace\">great great great great -&gt; <span style=\"color: #008080; text-decoration-color: #008080; font-weight: bold\">0.563930</span>\n",
       "</pre>\n"
      ],
      "text/plain": [
       "great great great great -> \u001b[1;36m0.563930\u001b[0m\n"
      ]
     },
     "metadata": {},
     "output_type": "display_data"
    }
   ],
   "source": [
    "# Run this cell to test your function\n",
    "for tweet in ['I am happy', 'I am bad', 'this movie should have been great.', 'great', 'great great', 'great great great', 'great great great great']:\n",
    "    print( '%s -> %f' % (tweet, predict_tweet(tweet, train_word_freqs, theta)))\n"
   ]
  },
  {
   "cell_type": "markdown",
   "metadata": {},
   "source": [
    "**Expected Output**: \n",
    "```\n",
    "I am happy -> 0.519275\n",
    "I am bad -> 0.494347\n",
    "this movie should have been great. -> 0.515979\n",
    "great -> 0.516065\n",
    "great great -> 0.532096\n",
    "great great great -> 0.548062\n",
    "great great great great -> 0.563929\n",
    "```"
   ]
  },
  {
   "cell_type": "code",
   "execution_count": 51,
   "metadata": {},
   "outputs": [
    {
     "data": {
      "text/plain": [
       "array([0.83110764])"
      ]
     },
     "execution_count": 51,
     "metadata": {},
     "output_type": "execute_result"
    }
   ],
   "source": [
    "# Feel free to check the sentiment of your own tweet below\n",
    "my_tweet = 'I am learning :)'\n",
    "predict_tweet(my_tweet, train_word_freqs, theta)\n"
   ]
  },
  {
   "cell_type": "markdown",
   "metadata": {},
   "source": [
    "<a name='4-1'></a>\n",
    "### 4.1 -  Check the Performance using the Test Set\n",
    "After training your model using the training set above, check how your model might perform on real, unseen data, by testing it against the test set.\n",
    "\n",
    "<a name='ex-5'></a>\n",
    "### test_logistic_regression\n",
    "Implement `test_logistic_regression`. \n",
    "* Given the test data and the weights of your trained model, calculate the accuracy of your logistic regression model. \n",
    "* Use your 'predict_tweet' function to make predictions on each tweet in the test set.\n",
    "* If the prediction is > 0.5, set the model's classification 'y_hat' to 1, otherwise set the model's classification 'y_hat' to 0.\n",
    "* A prediction is accurate when the y_hat equals the test_y.  Sum up all the instances when they are equal and divide by m.\n"
   ]
  },
  {
   "cell_type": "code",
   "execution_count": 54,
   "metadata": {},
   "outputs": [],
   "source": [
    "def test_logistic_regression(test_x: List[str], test_y: np.ndarray, freqs: Dict[Tuple[str, int], int], theta: np.ndarray, predict_tweet = predict_tweet) -> float:\n",
    "    \"\"\"\n",
    "    Function to test the logistic regression model.\n",
    "\n",
    "    Parameters:\n",
    "    test_x (List[str]): A list of tweets.\n",
    "    test_y (np.ndarray): (m, 1) vector with the corresponding labels for the list of tweets.\n",
    "    freqs (Dict[Tuple[str, int], int]): A dictionary with the frequency of each pair (or tuple).\n",
    "    theta (np.ndarray): Weight vector of dimension (3, 1).\n",
    "    predict_tweet (function): A function used to predict the sentiment of a tweet.\n",
    "\n",
    "    Returns:\n",
    "    float: The accuracy of the model. It is calculated as the number of tweets classified correctly divided by the total number of tweets.\n",
    "    \"\"\"\n",
    "    # the list for storing predictions\n",
    "    y_hat = []\n",
    "\n",
    "    for tweet in test_x:\n",
    "        # get the label prediction for the tweet\n",
    "        y_pred = predict_tweet(tweet, freqs, theta)\n",
    "\n",
    "        if y_pred > 0.5:\n",
    "            # append 1.0 to the list\n",
    "            y_hat.append(1.0)\n",
    "        else:\n",
    "            # append 0 to the list\n",
    "            y_hat.append(0.0)\n",
    "\n",
    "    # With the above implementation, y_hat is a list, but test_y is (m,1) array\n",
    "    # convert both to one-dimensional arrays in order to compare them using the '==' operator\n",
    "    accuracy = np.mean(np.array(y_hat).reshape(-1, 1) == test_y)\n",
    "\n",
    "    return accuracy\n"
   ]
  },
  {
   "cell_type": "code",
   "execution_count": 55,
   "metadata": {},
   "outputs": [
    {
     "data": {
      "text/html": [
       "<pre style=\"white-space:pre;overflow-x:auto;line-height:normal;font-family:Menlo,'DejaVu Sans Mono',consolas,'Courier New',monospace\">Logistic regression model's accuracy = <span style=\"color: #008080; text-decoration-color: #008080; font-weight: bold\">0.9950</span>\n",
       "</pre>\n"
      ],
      "text/plain": [
       "Logistic regression model's accuracy = \u001b[1;36m0.9950\u001b[0m\n"
      ]
     },
     "metadata": {},
     "output_type": "display_data"
    }
   ],
   "source": [
    "tmp_accuracy = test_logistic_regression(test_x, test_label, train_word_freqs, theta)\n",
    "print(f\"Logistic regression model's accuracy = {tmp_accuracy:.4f}\")\n"
   ]
  },
  {
   "cell_type": "markdown",
   "metadata": {},
   "source": [
    "<a name='5'></a>\n",
    "## 5 -  Error Analysis\n",
    "\n",
    "In this part you will see some tweets that your model misclassified. Why do you think the misclassifications happened? Specifically what kind of tweets does your model misclassify?"
   ]
  },
  {
   "cell_type": "code",
   "execution_count": 56,
   "metadata": {},
   "outputs": [
    {
     "data": {
      "text/html": [
       "<pre style=\"white-space:pre;overflow-x:auto;line-height:normal;font-family:Menlo,'DejaVu Sans Mono',consolas,'Courier New',monospace\">Label Predicted Tweet\n",
       "</pre>\n"
      ],
      "text/plain": [
       "Label Predicted Tweet\n"
      ]
     },
     "metadata": {},
     "output_type": "display_data"
    },
    {
     "data": {
      "text/html": [
       "<pre style=\"white-space:pre;overflow-x:auto;line-height:normal;font-family:Menlo,'DejaVu Sans Mono',consolas,'Courier New',monospace\">THE TWEET IS: @MarkBreech Not sure it would be good thing <span style=\"color: #008080; text-decoration-color: #008080; font-weight: bold\">4</span> my bottom daring <span style=\"color: #008080; text-decoration-color: #008080; font-weight: bold\">2</span> say <span style=\"color: #008080; text-decoration-color: #008080; font-weight: bold\">2</span> Miss B but Im gonna be so \n",
       "stubborn on mouth soaping ! #NotHavingit :p\n",
       "</pre>\n"
      ],
      "text/plain": [
       "THE TWEET IS: @MarkBreech Not sure it would be good thing \u001b[1;36m4\u001b[0m my bottom daring \u001b[1;36m2\u001b[0m say \u001b[1;36m2\u001b[0m Miss B but Im gonna be so \n",
       "stubborn on mouth soaping ! #NotHavingit :p\n"
      ]
     },
     "metadata": {},
     "output_type": "display_data"
    },
    {
     "data": {
      "text/html": [
       "<pre style=\"white-space:pre;overflow-x:auto;line-height:normal;font-family:Menlo,'DejaVu Sans Mono',consolas,'Courier New',monospace\">THE PROCESSED TWEET IS:\n",
       "<span style=\"font-weight: bold\">[</span>\n",
       "    <span style=\"color: #008000; text-decoration-color: #008000\">'sure'</span>,\n",
       "    <span style=\"color: #008000; text-decoration-color: #008000\">'would'</span>,\n",
       "    <span style=\"color: #008000; text-decoration-color: #008000\">'good'</span>,\n",
       "    <span style=\"color: #008000; text-decoration-color: #008000\">'thing'</span>,\n",
       "    <span style=\"color: #008000; text-decoration-color: #008000\">'4'</span>,\n",
       "    <span style=\"color: #008000; text-decoration-color: #008000\">'bottom'</span>,\n",
       "    <span style=\"color: #008000; text-decoration-color: #008000\">'dare'</span>,\n",
       "    <span style=\"color: #008000; text-decoration-color: #008000\">'2'</span>,\n",
       "    <span style=\"color: #008000; text-decoration-color: #008000\">'say'</span>,\n",
       "    <span style=\"color: #008000; text-decoration-color: #008000\">'2'</span>,\n",
       "    <span style=\"color: #008000; text-decoration-color: #008000\">'miss'</span>,\n",
       "    <span style=\"color: #008000; text-decoration-color: #008000\">'b'</span>,\n",
       "    <span style=\"color: #008000; text-decoration-color: #008000\">'im'</span>,\n",
       "    <span style=\"color: #008000; text-decoration-color: #008000\">'gonna'</span>,\n",
       "    <span style=\"color: #008000; text-decoration-color: #008000\">'stubborn'</span>,\n",
       "    <span style=\"color: #008000; text-decoration-color: #008000\">'mouth'</span>,\n",
       "    <span style=\"color: #008000; text-decoration-color: #008000\">'soap'</span>,\n",
       "    <span style=\"color: #008000; text-decoration-color: #008000\">'nothavingit'</span>,\n",
       "    <span style=\"color: #008000; text-decoration-color: #008000\">':p'</span>\n",
       "<span style=\"font-weight: bold\">]</span>\n",
       "</pre>\n"
      ],
      "text/plain": [
       "THE PROCESSED TWEET IS:\n",
       "\u001b[1m[\u001b[0m\n",
       "    \u001b[32m'sure'\u001b[0m,\n",
       "    \u001b[32m'would'\u001b[0m,\n",
       "    \u001b[32m'good'\u001b[0m,\n",
       "    \u001b[32m'thing'\u001b[0m,\n",
       "    \u001b[32m'4'\u001b[0m,\n",
       "    \u001b[32m'bottom'\u001b[0m,\n",
       "    \u001b[32m'dare'\u001b[0m,\n",
       "    \u001b[32m'2'\u001b[0m,\n",
       "    \u001b[32m'say'\u001b[0m,\n",
       "    \u001b[32m'2'\u001b[0m,\n",
       "    \u001b[32m'miss'\u001b[0m,\n",
       "    \u001b[32m'b'\u001b[0m,\n",
       "    \u001b[32m'im'\u001b[0m,\n",
       "    \u001b[32m'gonna'\u001b[0m,\n",
       "    \u001b[32m'stubborn'\u001b[0m,\n",
       "    \u001b[32m'mouth'\u001b[0m,\n",
       "    \u001b[32m'soap'\u001b[0m,\n",
       "    \u001b[32m'nothavingit'\u001b[0m,\n",
       "    \u001b[32m':p'\u001b[0m\n",
       "\u001b[1m]\u001b[0m\n"
      ]
     },
     "metadata": {},
     "output_type": "display_data"
    },
    {
     "name": "stderr",
     "output_type": "stream",
     "text": [
      "/tmp/ipykernel_47619/2636149090.py:9: DeprecationWarning: Conversion of an array with ndim > 0 to a scalar is deprecated, and will error in future. Ensure you extract a single element from your array before performing this operation. (Deprecated NumPy 1.25.)\n",
      "  print('%d\\t%0.8f\\t%s' % (y, y_hat, ' '.join(process_tweet(x)).encode('ascii', 'ignore')))\n"
     ]
    },
    {
     "data": {
      "text/html": [
       "<pre style=\"white-space:pre;overflow-x:auto;line-height:normal;font-family:Menlo,'DejaVu Sans Mono',consolas,'Courier New',monospace\"><span style=\"color: #008080; text-decoration-color: #008080; font-weight: bold\">1</span>       <span style=\"color: #008080; text-decoration-color: #008080; font-weight: bold\">0.48942981</span>      <span style=\"color: #008000; text-decoration-color: #008000\">b'sure would good thing 4 bottom dare 2 say 2 miss b im gonna stubborn mouth soap </span>\n",
       "<span style=\"color: #008000; text-decoration-color: #008000\">nothavingit :p'</span>\n",
       "</pre>\n"
      ],
      "text/plain": [
       "\u001b[1;36m1\u001b[0m       \u001b[1;36m0.48942981\u001b[0m      \u001b[32mb'sure would good thing 4 bottom dare 2 say 2 miss b im gonna stubborn mouth soap \u001b[0m\n",
       "\u001b[32mnothavingit :p'\u001b[0m\n"
      ]
     },
     "metadata": {},
     "output_type": "display_data"
    },
    {
     "data": {
      "text/html": [
       "<pre style=\"white-space:pre;overflow-x:auto;line-height:normal;font-family:Menlo,'DejaVu Sans Mono',consolas,'Courier New',monospace\">THE TWEET IS: I'm playing Brain Dots : <span style=\"font-weight: bold\">)</span> #BrainDots\n",
       "<span style=\"color: #0000ff; text-decoration-color: #0000ff; text-decoration: underline\">http://t.co/UGQzOx0huu</span>\n",
       "</pre>\n"
      ],
      "text/plain": [
       "THE TWEET IS: I'm playing Brain Dots : \u001b[1m)\u001b[0m #BrainDots\n",
       "\u001b[4;94mhttp://t.co/UGQzOx0huu\u001b[0m\n"
      ]
     },
     "metadata": {},
     "output_type": "display_data"
    },
    {
     "data": {
      "text/html": [
       "<pre style=\"white-space:pre;overflow-x:auto;line-height:normal;font-family:Menlo,'DejaVu Sans Mono',consolas,'Courier New',monospace\">THE PROCESSED TWEET IS:\n",
       "<span style=\"font-weight: bold\">[</span><span style=\"color: #008000; text-decoration-color: #008000\">\"i'm\"</span>, <span style=\"color: #008000; text-decoration-color: #008000\">'play'</span>, <span style=\"color: #008000; text-decoration-color: #008000\">'brain'</span>, <span style=\"color: #008000; text-decoration-color: #008000\">'dot'</span>, <span style=\"color: #008000; text-decoration-color: #008000\">'braindot'</span><span style=\"font-weight: bold\">]</span>\n",
       "</pre>\n"
      ],
      "text/plain": [
       "THE PROCESSED TWEET IS:\n",
       "\u001b[1m[\u001b[0m\u001b[32m\"i'm\"\u001b[0m, \u001b[32m'play'\u001b[0m, \u001b[32m'brain'\u001b[0m, \u001b[32m'dot'\u001b[0m, \u001b[32m'braindot'\u001b[0m\u001b[1m]\u001b[0m\n"
      ]
     },
     "metadata": {},
     "output_type": "display_data"
    },
    {
     "data": {
      "text/html": [
       "<pre style=\"white-space:pre;overflow-x:auto;line-height:normal;font-family:Menlo,'DejaVu Sans Mono',consolas,'Courier New',monospace\"><span style=\"color: #008080; text-decoration-color: #008080; font-weight: bold\">1</span>       <span style=\"color: #008080; text-decoration-color: #008080; font-weight: bold\">0.48418981</span>      <span style=\"color: #008000; text-decoration-color: #008000\">b\"i'm play brain dot braindot\"</span>\n",
       "</pre>\n"
      ],
      "text/plain": [
       "\u001b[1;36m1\u001b[0m       \u001b[1;36m0.48418981\u001b[0m      \u001b[32mb\"i'm play brain dot braindot\"\u001b[0m\n"
      ]
     },
     "metadata": {},
     "output_type": "display_data"
    },
    {
     "data": {
      "text/html": [
       "<pre style=\"white-space:pre;overflow-x:auto;line-height:normal;font-family:Menlo,'DejaVu Sans Mono',consolas,'Courier New',monospace\">THE TWEET IS: I'm playing Brain Dots : <span style=\"font-weight: bold\">)</span> #BrainDots <span style=\"color: #0000ff; text-decoration-color: #0000ff; text-decoration: underline\">http://t.co/aOKldo3GMj</span> <span style=\"color: #0000ff; text-decoration-color: #0000ff; text-decoration: underline\">http://t.co/xWCM9qyRG5</span>\n",
       "</pre>\n"
      ],
      "text/plain": [
       "THE TWEET IS: I'm playing Brain Dots : \u001b[1m)\u001b[0m #BrainDots \u001b[4;94mhttp://t.co/aOKldo3GMj\u001b[0m \u001b[4;94mhttp://t.co/xWCM9qyRG5\u001b[0m\n"
      ]
     },
     "metadata": {},
     "output_type": "display_data"
    },
    {
     "data": {
      "text/html": [
       "<pre style=\"white-space:pre;overflow-x:auto;line-height:normal;font-family:Menlo,'DejaVu Sans Mono',consolas,'Courier New',monospace\">THE PROCESSED TWEET IS:\n",
       "<span style=\"font-weight: bold\">[</span><span style=\"color: #008000; text-decoration-color: #008000\">\"i'm\"</span>, <span style=\"color: #008000; text-decoration-color: #008000\">'play'</span>, <span style=\"color: #008000; text-decoration-color: #008000\">'brain'</span>, <span style=\"color: #008000; text-decoration-color: #008000\">'dot'</span>, <span style=\"color: #008000; text-decoration-color: #008000\">'braindot'</span><span style=\"font-weight: bold\">]</span>\n",
       "</pre>\n"
      ],
      "text/plain": [
       "THE PROCESSED TWEET IS:\n",
       "\u001b[1m[\u001b[0m\u001b[32m\"i'm\"\u001b[0m, \u001b[32m'play'\u001b[0m, \u001b[32m'brain'\u001b[0m, \u001b[32m'dot'\u001b[0m, \u001b[32m'braindot'\u001b[0m\u001b[1m]\u001b[0m\n"
      ]
     },
     "metadata": {},
     "output_type": "display_data"
    },
    {
     "data": {
      "text/html": [
       "<pre style=\"white-space:pre;overflow-x:auto;line-height:normal;font-family:Menlo,'DejaVu Sans Mono',consolas,'Courier New',monospace\"><span style=\"color: #008080; text-decoration-color: #008080; font-weight: bold\">1</span>       <span style=\"color: #008080; text-decoration-color: #008080; font-weight: bold\">0.48418981</span>      <span style=\"color: #008000; text-decoration-color: #008000\">b\"i'm play brain dot braindot\"</span>\n",
       "</pre>\n"
      ],
      "text/plain": [
       "\u001b[1;36m1\u001b[0m       \u001b[1;36m0.48418981\u001b[0m      \u001b[32mb\"i'm play brain dot braindot\"\u001b[0m\n"
      ]
     },
     "metadata": {},
     "output_type": "display_data"
    },
    {
     "data": {
      "text/html": [
       "<pre style=\"white-space:pre;overflow-x:auto;line-height:normal;font-family:Menlo,'DejaVu Sans Mono',consolas,'Courier New',monospace\">THE TWEET IS: I'm playing Brain Dots : <span style=\"font-weight: bold\">)</span> #BrainDots <span style=\"color: #0000ff; text-decoration-color: #0000ff; text-decoration: underline\">http://t.co/R2JBO8iNww</span> <span style=\"color: #0000ff; text-decoration-color: #0000ff; text-decoration: underline\">http://t.co/ow5BBwdEMY</span>\n",
       "</pre>\n"
      ],
      "text/plain": [
       "THE TWEET IS: I'm playing Brain Dots : \u001b[1m)\u001b[0m #BrainDots \u001b[4;94mhttp://t.co/R2JBO8iNww\u001b[0m \u001b[4;94mhttp://t.co/ow5BBwdEMY\u001b[0m\n"
      ]
     },
     "metadata": {},
     "output_type": "display_data"
    },
    {
     "data": {
      "text/html": [
       "<pre style=\"white-space:pre;overflow-x:auto;line-height:normal;font-family:Menlo,'DejaVu Sans Mono',consolas,'Courier New',monospace\">THE PROCESSED TWEET IS:\n",
       "<span style=\"font-weight: bold\">[</span><span style=\"color: #008000; text-decoration-color: #008000\">\"i'm\"</span>, <span style=\"color: #008000; text-decoration-color: #008000\">'play'</span>, <span style=\"color: #008000; text-decoration-color: #008000\">'brain'</span>, <span style=\"color: #008000; text-decoration-color: #008000\">'dot'</span>, <span style=\"color: #008000; text-decoration-color: #008000\">'braindot'</span><span style=\"font-weight: bold\">]</span>\n",
       "</pre>\n"
      ],
      "text/plain": [
       "THE PROCESSED TWEET IS:\n",
       "\u001b[1m[\u001b[0m\u001b[32m\"i'm\"\u001b[0m, \u001b[32m'play'\u001b[0m, \u001b[32m'brain'\u001b[0m, \u001b[32m'dot'\u001b[0m, \u001b[32m'braindot'\u001b[0m\u001b[1m]\u001b[0m\n"
      ]
     },
     "metadata": {},
     "output_type": "display_data"
    },
    {
     "data": {
      "text/html": [
       "<pre style=\"white-space:pre;overflow-x:auto;line-height:normal;font-family:Menlo,'DejaVu Sans Mono',consolas,'Courier New',monospace\"><span style=\"color: #008080; text-decoration-color: #008080; font-weight: bold\">1</span>       <span style=\"color: #008080; text-decoration-color: #008080; font-weight: bold\">0.48418981</span>      <span style=\"color: #008000; text-decoration-color: #008000\">b\"i'm play brain dot braindot\"</span>\n",
       "</pre>\n"
      ],
      "text/plain": [
       "\u001b[1;36m1\u001b[0m       \u001b[1;36m0.48418981\u001b[0m      \u001b[32mb\"i'm play brain dot braindot\"\u001b[0m\n"
      ]
     },
     "metadata": {},
     "output_type": "display_data"
    },
    {
     "data": {
      "text/html": [
       "<pre style=\"white-space:pre;overflow-x:auto;line-height:normal;font-family:Menlo,'DejaVu Sans Mono',consolas,'Courier New',monospace\">THE TWEET IS: off to the park to get some sunlight : <span style=\"font-weight: bold\">)</span>\n",
       "</pre>\n"
      ],
      "text/plain": [
       "THE TWEET IS: off to the park to get some sunlight : \u001b[1m)\u001b[0m\n"
      ]
     },
     "metadata": {},
     "output_type": "display_data"
    },
    {
     "data": {
      "text/html": [
       "<pre style=\"white-space:pre;overflow-x:auto;line-height:normal;font-family:Menlo,'DejaVu Sans Mono',consolas,'Courier New',monospace\">THE PROCESSED TWEET IS:\n",
       "<span style=\"font-weight: bold\">[</span><span style=\"color: #008000; text-decoration-color: #008000\">'park'</span>, <span style=\"color: #008000; text-decoration-color: #008000\">'get'</span>, <span style=\"color: #008000; text-decoration-color: #008000\">'sunlight'</span><span style=\"font-weight: bold\">]</span>\n",
       "</pre>\n"
      ],
      "text/plain": [
       "THE PROCESSED TWEET IS:\n",
       "\u001b[1m[\u001b[0m\u001b[32m'park'\u001b[0m, \u001b[32m'get'\u001b[0m, \u001b[32m'sunlight'\u001b[0m\u001b[1m]\u001b[0m\n"
      ]
     },
     "metadata": {},
     "output_type": "display_data"
    },
    {
     "data": {
      "text/html": [
       "<pre style=\"white-space:pre;overflow-x:auto;line-height:normal;font-family:Menlo,'DejaVu Sans Mono',consolas,'Courier New',monospace\"><span style=\"color: #008080; text-decoration-color: #008080; font-weight: bold\">1</span>       <span style=\"color: #008080; text-decoration-color: #008080; font-weight: bold\">0.49636406</span>      <span style=\"color: #008000; text-decoration-color: #008000\">b'park get sunlight'</span>\n",
       "</pre>\n"
      ],
      "text/plain": [
       "\u001b[1;36m1\u001b[0m       \u001b[1;36m0.49636406\u001b[0m      \u001b[32mb'park get sunlight'\u001b[0m\n"
      ]
     },
     "metadata": {},
     "output_type": "display_data"
    },
    {
     "data": {
      "text/html": [
       "<pre style=\"white-space:pre;overflow-x:auto;line-height:normal;font-family:Menlo,'DejaVu Sans Mono',consolas,'Courier New',monospace\">THE TWEET IS: @msarosh Uff Itna Miss karhy thy ap :p\n",
       "</pre>\n"
      ],
      "text/plain": [
       "THE TWEET IS: @msarosh Uff Itna Miss karhy thy ap :p\n"
      ]
     },
     "metadata": {},
     "output_type": "display_data"
    },
    {
     "data": {
      "text/html": [
       "<pre style=\"white-space:pre;overflow-x:auto;line-height:normal;font-family:Menlo,'DejaVu Sans Mono',consolas,'Courier New',monospace\">THE PROCESSED TWEET IS:\n",
       "<span style=\"font-weight: bold\">[</span><span style=\"color: #008000; text-decoration-color: #008000\">'uff'</span>, <span style=\"color: #008000; text-decoration-color: #008000\">'itna'</span>, <span style=\"color: #008000; text-decoration-color: #008000\">'miss'</span>, <span style=\"color: #008000; text-decoration-color: #008000\">'karhi'</span>, <span style=\"color: #008000; text-decoration-color: #008000\">'thi'</span>, <span style=\"color: #008000; text-decoration-color: #008000\">'ap'</span>, <span style=\"color: #008000; text-decoration-color: #008000\">':p'</span><span style=\"font-weight: bold\">]</span>\n",
       "</pre>\n"
      ],
      "text/plain": [
       "THE PROCESSED TWEET IS:\n",
       "\u001b[1m[\u001b[0m\u001b[32m'uff'\u001b[0m, \u001b[32m'itna'\u001b[0m, \u001b[32m'miss'\u001b[0m, \u001b[32m'karhi'\u001b[0m, \u001b[32m'thi'\u001b[0m, \u001b[32m'ap'\u001b[0m, \u001b[32m':p'\u001b[0m\u001b[1m]\u001b[0m\n"
      ]
     },
     "metadata": {},
     "output_type": "display_data"
    },
    {
     "data": {
      "text/html": [
       "<pre style=\"white-space:pre;overflow-x:auto;line-height:normal;font-family:Menlo,'DejaVu Sans Mono',consolas,'Courier New',monospace\"><span style=\"color: #008080; text-decoration-color: #008080; font-weight: bold\">1</span>       <span style=\"color: #008080; text-decoration-color: #008080; font-weight: bold\">0.48250522</span>      <span style=\"color: #008000; text-decoration-color: #008000\">b'uff itna miss karhi thi ap :p'</span>\n",
       "</pre>\n"
      ],
      "text/plain": [
       "\u001b[1;36m1\u001b[0m       \u001b[1;36m0.48250522\u001b[0m      \u001b[32mb'uff itna miss karhi thi ap :p'\u001b[0m\n"
      ]
     },
     "metadata": {},
     "output_type": "display_data"
    },
    {
     "data": {
      "text/html": [
       "<pre style=\"white-space:pre;overflow-x:auto;line-height:normal;font-family:Menlo,'DejaVu Sans Mono',consolas,'Courier New',monospace\">THE TWEET IS: @phenomyoutube u probs had more fun with david than me : <span style=\"font-weight: bold\">(</span>\n",
       "</pre>\n"
      ],
      "text/plain": [
       "THE TWEET IS: @phenomyoutube u probs had more fun with david than me : \u001b[1m(\u001b[0m\n"
      ]
     },
     "metadata": {},
     "output_type": "display_data"
    },
    {
     "data": {
      "text/html": [
       "<pre style=\"white-space:pre;overflow-x:auto;line-height:normal;font-family:Menlo,'DejaVu Sans Mono',consolas,'Courier New',monospace\">THE PROCESSED TWEET IS:\n",
       "<span style=\"font-weight: bold\">[</span><span style=\"color: #008000; text-decoration-color: #008000\">'u'</span>, <span style=\"color: #008000; text-decoration-color: #008000\">'prob'</span>, <span style=\"color: #008000; text-decoration-color: #008000\">'fun'</span>, <span style=\"color: #008000; text-decoration-color: #008000\">'david'</span><span style=\"font-weight: bold\">]</span>\n",
       "</pre>\n"
      ],
      "text/plain": [
       "THE PROCESSED TWEET IS:\n",
       "\u001b[1m[\u001b[0m\u001b[32m'u'\u001b[0m, \u001b[32m'prob'\u001b[0m, \u001b[32m'fun'\u001b[0m, \u001b[32m'david'\u001b[0m\u001b[1m]\u001b[0m\n"
      ]
     },
     "metadata": {},
     "output_type": "display_data"
    },
    {
     "data": {
      "text/html": [
       "<pre style=\"white-space:pre;overflow-x:auto;line-height:normal;font-family:Menlo,'DejaVu Sans Mono',consolas,'Courier New',monospace\"><span style=\"color: #008080; text-decoration-color: #008080; font-weight: bold\">0</span>       <span style=\"color: #008080; text-decoration-color: #008080; font-weight: bold\">0.50988296</span>      <span style=\"color: #008000; text-decoration-color: #008000\">b'u prob fun david'</span>\n",
       "</pre>\n"
      ],
      "text/plain": [
       "\u001b[1;36m0\u001b[0m       \u001b[1;36m0.50988296\u001b[0m      \u001b[32mb'u prob fun david'\u001b[0m\n"
      ]
     },
     "metadata": {},
     "output_type": "display_data"
    },
    {
     "data": {
      "text/html": [
       "<pre style=\"white-space:pre;overflow-x:auto;line-height:normal;font-family:Menlo,'DejaVu Sans Mono',consolas,'Courier New',monospace\">THE TWEET IS: pats jay : <span style=\"font-weight: bold\">(</span>\n",
       "</pre>\n"
      ],
      "text/plain": [
       "THE TWEET IS: pats jay : \u001b[1m(\u001b[0m\n"
      ]
     },
     "metadata": {},
     "output_type": "display_data"
    },
    {
     "data": {
      "text/html": [
       "<pre style=\"white-space:pre;overflow-x:auto;line-height:normal;font-family:Menlo,'DejaVu Sans Mono',consolas,'Courier New',monospace\">THE PROCESSED TWEET IS:\n",
       "<span style=\"font-weight: bold\">[</span><span style=\"color: #008000; text-decoration-color: #008000\">'pat'</span>, <span style=\"color: #008000; text-decoration-color: #008000\">'jay'</span><span style=\"font-weight: bold\">]</span>\n",
       "</pre>\n"
      ],
      "text/plain": [
       "THE PROCESSED TWEET IS:\n",
       "\u001b[1m[\u001b[0m\u001b[32m'pat'\u001b[0m, \u001b[32m'jay'\u001b[0m\u001b[1m]\u001b[0m\n"
      ]
     },
     "metadata": {},
     "output_type": "display_data"
    },
    {
     "data": {
      "text/html": [
       "<pre style=\"white-space:pre;overflow-x:auto;line-height:normal;font-family:Menlo,'DejaVu Sans Mono',consolas,'Courier New',monospace\"><span style=\"color: #008080; text-decoration-color: #008080; font-weight: bold\">0</span>       <span style=\"color: #008080; text-decoration-color: #008080; font-weight: bold\">0.50040366</span>      <span style=\"color: #008000; text-decoration-color: #008000\">b'pat jay'</span>\n",
       "</pre>\n"
      ],
      "text/plain": [
       "\u001b[1;36m0\u001b[0m       \u001b[1;36m0.50040366\u001b[0m      \u001b[32mb'pat jay'\u001b[0m\n"
      ]
     },
     "metadata": {},
     "output_type": "display_data"
    },
    {
     "data": {
      "text/html": [
       "<pre style=\"white-space:pre;overflow-x:auto;line-height:normal;font-family:Menlo,'DejaVu Sans Mono',consolas,'Courier New',monospace\">THE TWEET IS: my beloved grandmother : <span style=\"font-weight: bold\">(</span> <span style=\"color: #0000ff; text-decoration-color: #0000ff; text-decoration: underline\">https://t.co/wt4oXq5xCf</span>\n",
       "</pre>\n"
      ],
      "text/plain": [
       "THE TWEET IS: my beloved grandmother : \u001b[1m(\u001b[0m \u001b[4;94mhttps://t.co/wt4oXq5xCf\u001b[0m\n"
      ]
     },
     "metadata": {},
     "output_type": "display_data"
    },
    {
     "data": {
      "text/html": [
       "<pre style=\"white-space:pre;overflow-x:auto;line-height:normal;font-family:Menlo,'DejaVu Sans Mono',consolas,'Courier New',monospace\">THE PROCESSED TWEET IS:\n",
       "<span style=\"font-weight: bold\">[</span><span style=\"color: #008000; text-decoration-color: #008000\">'belov'</span>, <span style=\"color: #008000; text-decoration-color: #008000\">'grandmoth'</span><span style=\"font-weight: bold\">]</span>\n",
       "</pre>\n"
      ],
      "text/plain": [
       "THE PROCESSED TWEET IS:\n",
       "\u001b[1m[\u001b[0m\u001b[32m'belov'\u001b[0m, \u001b[32m'grandmoth'\u001b[0m\u001b[1m]\u001b[0m\n"
      ]
     },
     "metadata": {},
     "output_type": "display_data"
    },
    {
     "data": {
      "text/html": [
       "<pre style=\"white-space:pre;overflow-x:auto;line-height:normal;font-family:Menlo,'DejaVu Sans Mono',consolas,'Courier New',monospace\"><span style=\"color: #008080; text-decoration-color: #008080; font-weight: bold\">0</span>       <span style=\"color: #008080; text-decoration-color: #008080; font-weight: bold\">0.50000002</span>      <span style=\"color: #008000; text-decoration-color: #008000\">b'belov grandmoth'</span>\n",
       "</pre>\n"
      ],
      "text/plain": [
       "\u001b[1;36m0\u001b[0m       \u001b[1;36m0.50000002\u001b[0m      \u001b[32mb'belov grandmoth'\u001b[0m\n"
      ]
     },
     "metadata": {},
     "output_type": "display_data"
    },
    {
     "data": {
      "text/html": [
       "<pre style=\"white-space:pre;overflow-x:auto;line-height:normal;font-family:Menlo,'DejaVu Sans Mono',consolas,'Courier New',monospace\">THE TWEET IS: Sr. Financial Analyst - Expedia, Inc.: <span style=\"font-weight: bold\">(</span>#Bellevue, WA<span style=\"font-weight: bold\">)</span> <span style=\"color: #0000ff; text-decoration-color: #0000ff; text-decoration: underline\">http://t.co/ktknMhvwCI</span> #Finance #ExpediaJobs \n",
       "#Job #Jobs #Hiring\n",
       "</pre>\n"
      ],
      "text/plain": [
       "THE TWEET IS: Sr. Financial Analyst - Expedia, Inc.: \u001b[1m(\u001b[0m#Bellevue, WA\u001b[1m)\u001b[0m \u001b[4;94mhttp://t.co/ktknMhvwCI\u001b[0m #Finance #ExpediaJobs \n",
       "#Job #Jobs #Hiring\n"
      ]
     },
     "metadata": {},
     "output_type": "display_data"
    },
    {
     "data": {
      "text/html": [
       "<pre style=\"white-space:pre;overflow-x:auto;line-height:normal;font-family:Menlo,'DejaVu Sans Mono',consolas,'Courier New',monospace\">THE PROCESSED TWEET IS:\n",
       "<span style=\"font-weight: bold\">[</span><span style=\"color: #008000; text-decoration-color: #008000\">'sr'</span>, <span style=\"color: #008000; text-decoration-color: #008000\">'financi'</span>, <span style=\"color: #008000; text-decoration-color: #008000\">'analyst'</span>, <span style=\"color: #008000; text-decoration-color: #008000\">'expedia'</span>, <span style=\"color: #008000; text-decoration-color: #008000\">'inc'</span>, <span style=\"color: #008000; text-decoration-color: #008000\">'bellevu'</span>, <span style=\"color: #008000; text-decoration-color: #008000\">'wa'</span>, <span style=\"color: #008000; text-decoration-color: #008000\">'financ'</span>, <span style=\"color: #008000; text-decoration-color: #008000\">'expediajob'</span>, <span style=\"color: #008000; text-decoration-color: #008000\">'job'</span>, <span style=\"color: #008000; text-decoration-color: #008000\">'job'</span>, <span style=\"color: #008000; text-decoration-color: #008000\">'hire'</span><span style=\"font-weight: bold\">]</span>\n",
       "</pre>\n"
      ],
      "text/plain": [
       "THE PROCESSED TWEET IS:\n",
       "\u001b[1m[\u001b[0m\u001b[32m'sr'\u001b[0m, \u001b[32m'financi'\u001b[0m, \u001b[32m'analyst'\u001b[0m, \u001b[32m'expedia'\u001b[0m, \u001b[32m'inc'\u001b[0m, \u001b[32m'bellevu'\u001b[0m, \u001b[32m'wa'\u001b[0m, \u001b[32m'financ'\u001b[0m, \u001b[32m'expediajob'\u001b[0m, \u001b[32m'job'\u001b[0m, \u001b[32m'job'\u001b[0m, \u001b[32m'hire'\u001b[0m\u001b[1m]\u001b[0m\n"
      ]
     },
     "metadata": {},
     "output_type": "display_data"
    },
    {
     "data": {
      "text/html": [
       "<pre style=\"white-space:pre;overflow-x:auto;line-height:normal;font-family:Menlo,'DejaVu Sans Mono',consolas,'Courier New',monospace\"><span style=\"color: #008080; text-decoration-color: #008080; font-weight: bold\">0</span>       <span style=\"color: #008080; text-decoration-color: #008080; font-weight: bold\">0.50648699</span>      <span style=\"color: #008000; text-decoration-color: #008000\">b'sr financi analyst expedia inc bellevu wa financ expediajob job job hire'</span>\n",
       "</pre>\n"
      ],
      "text/plain": [
       "\u001b[1;36m0\u001b[0m       \u001b[1;36m0.50648699\u001b[0m      \u001b[32mb'sr financi analyst expedia inc bellevu wa financ expediajob job job hire'\u001b[0m\n"
      ]
     },
     "metadata": {},
     "output_type": "display_data"
    }
   ],
   "source": [
    "# Some error analysis done for you\n",
    "print('Label Predicted Tweet')\n",
    "for x,y in zip(test_x,test_label):\n",
    "    y_hat = predict_tweet(x, train_word_freqs, theta)\n",
    "\n",
    "    if np.abs(y - (y_hat > 0.5)) > 0:\n",
    "        print('THE TWEET IS:', x)\n",
    "        print('THE PROCESSED TWEET IS:', process_tweet(x))\n",
    "        print('%d\\t%0.8f\\t%s' % (y, y_hat, ' '.join(process_tweet(x)).encode('ascii', 'ignore')))\n"
   ]
  },
  {
   "cell_type": "markdown",
   "metadata": {},
   "source": [
    "<a name='6'></a>\n",
    "## 6 - Predict with your own Tweet"
   ]
  },
  {
   "cell_type": "code",
   "execution_count": 58,
   "metadata": {},
   "outputs": [
    {
     "data": {
      "text/html": [
       "<pre style=\"white-space:pre;overflow-x:auto;line-height:normal;font-family:Menlo,'DejaVu Sans Mono',consolas,'Courier New',monospace\"><span style=\"font-weight: bold\">[</span><span style=\"color: #008000; text-decoration-color: #008000\">'ridicul'</span>, <span style=\"color: #008000; text-decoration-color: #008000\">'bright'</span>, <span style=\"color: #008000; text-decoration-color: #008000\">'movi'</span>, <span style=\"color: #008000; text-decoration-color: #008000\">'plot'</span>, <span style=\"color: #008000; text-decoration-color: #008000\">'terribl'</span>, <span style=\"color: #008000; text-decoration-color: #008000\">'sad'</span>, <span style=\"color: #008000; text-decoration-color: #008000\">'end'</span><span style=\"font-weight: bold\">]</span>\n",
       "</pre>\n"
      ],
      "text/plain": [
       "\u001b[1m[\u001b[0m\u001b[32m'ridicul'\u001b[0m, \u001b[32m'bright'\u001b[0m, \u001b[32m'movi'\u001b[0m, \u001b[32m'plot'\u001b[0m, \u001b[32m'terribl'\u001b[0m, \u001b[32m'sad'\u001b[0m, \u001b[32m'end'\u001b[0m\u001b[1m]\u001b[0m\n"
      ]
     },
     "metadata": {},
     "output_type": "display_data"
    },
    {
     "data": {
      "text/html": [
       "<pre style=\"white-space:pre;overflow-x:auto;line-height:normal;font-family:Menlo,'DejaVu Sans Mono',consolas,'Courier New',monospace\"><span style=\"font-weight: bold\">[</span><span style=\"color: #008080; text-decoration-color: #008080; font-weight: bold\">0.48125421</span><span style=\"font-weight: bold\">]</span>\n",
       "</pre>\n"
      ],
      "text/plain": [
       "\u001b[1m[\u001b[0m\u001b[1;36m0.48125421\u001b[0m\u001b[1m]\u001b[0m\n"
      ]
     },
     "metadata": {},
     "output_type": "display_data"
    },
    {
     "data": {
      "text/html": [
       "<pre style=\"white-space:pre;overflow-x:auto;line-height:normal;font-family:Menlo,'DejaVu Sans Mono',consolas,'Courier New',monospace\">Negative sentiment\n",
       "</pre>\n"
      ],
      "text/plain": [
       "Negative sentiment\n"
      ]
     },
     "metadata": {},
     "output_type": "display_data"
    }
   ],
   "source": [
    "# Feel free to change the tweet below\n",
    "my_tweet = 'This is a ridiculously bright movie. The plot was terrible and I was sad until the ending!'\n",
    "print(process_tweet(my_tweet))\n",
    "y_hat = predict_tweet(my_tweet, train_word_freqs, theta)\n",
    "print(y_hat)\n",
    "if y_hat > 0.5:\n",
    "    print('Positive sentiment')\n",
    "else:\n",
    "    print('Negative sentiment')\n"
   ]
  },
  {
   "cell_type": "markdown",
   "metadata": {},
   "source": [
    "## Plot the regression line\n",
    "\n",
    "In the same way, as part of this week's assignment, a Logistic regression model must be trained. The next cell contains the resulting model from the logistic regression training training. Notice that a list of 3 numeric values represents the whole model, that we have called _theta_ $\\theta$."
   ]
  },
  {
   "cell_type": "code",
   "execution_count": 59,
   "metadata": {},
   "outputs": [],
   "source": [
    "# theta = [6.03518871e-08, 5.38184972e-04, -5.58300168e-04]\n",
    "theta = np.squeeze(theta).tolist() # convert the array to list\n"
   ]
  },
  {
   "cell_type": "markdown",
   "metadata": {},
   "source": [
    "## Plot the samples in a scatter plot\n",
    "\n",
    "The vector theta represents a plane that split our feature space into two parts. Samples located over that plane are considered positive, and samples located under that plane are considered negative. Remember that we have a 3D feature space, i.e., each tweet is represented as a vector comprised of three values: `[bias, positive_sum, negative_sum]`, always having `bias = 1`. \n",
    "\n",
    "If we ignore the bias term, we can plot each tweet in a cartesian plane, using `positive_sum` and `negative_sum`. In the cell below, we do precisely this. Additionally, we color each tweet, depending on its class. Positive tweets will be green and negative tweets will be red."
   ]
  },
  {
   "cell_type": "code",
   "execution_count": 60,
   "metadata": {},
   "outputs": [
    {
     "name": "stderr",
     "output_type": "stream",
     "text": [
      "/tmp/ipykernel_47619/3575212074.py:5: DeprecationWarning: Conversion of an array with ndim > 0 to a scalar is deprecated, and will error in future. Ensure you extract a single element from your array before performing this operation. (Deprecated NumPy 1.25.)\n",
      "  ax.scatter(X[:,1], X[:,2], c=[colors[int(k)] for k in Y], s = 0.1) # Plot a dot for each pair of words\n"
     ]
    },
    {
     "data": {
      "text/plain": [
       "Text(0, 0.5, 'Negative')"
      ]
     },
     "execution_count": 60,
     "metadata": {},
     "output_type": "execute_result"
    },
    {
     "data": {
      "image/png": "[encoded data removed]",
      "text/plain": [
       "<Figure size 800x800 with 1 Axes>"
      ]
     },
     "metadata": {},
     "output_type": "display_data"
    }
   ],
   "source": [
    "fig, ax = plt.subplots(figsize = (8, 8))\n",
    "colors = ['red', 'green']\n",
    "\n",
    "# color based on sentiment Y\n",
    "ax.scatter(X[:,1], X[:,2], c=[colors[int(k)] for k in Y], s = 0.1) # Plot a dot for each pair of words\n",
    "plt.xlabel(\"Positive\")\n",
    "plt.ylabel(\"Negative\")\n"
   ]
  },
  {
   "cell_type": "markdown",
   "metadata": {},
   "source": [
    "From the plot, it is evident that the features that we have chosen to represent tweets as numerical vectors allow an almost perfect separation between positive and negative tweets. So you can expect a very high accuracy for this model! \n",
    "\n",
    "## Plot the model alongside the data\n",
    "\n",
    "We will draw a gray line to show the cutoff between the positive and negative regions. In other words, the gray line marks the line where $$ z = \\theta * x = 0.$$\n",
    "To draw this line, we have to solve the above equation in terms of one of the independent variables.\n",
    "\n",
    "$$ z = \\theta * x = 0$$\n",
    "$$ x = [1, pos, neg] $$\n",
    "$$ z(\\theta, x) = \\theta_0+ \\theta_1 * pos + \\theta_2 * neg = 0 $$\n",
    "$$ neg = (-\\theta_0 - \\theta_1 * pos) / \\theta_2 $$\n",
    "\n",
    "The red and green lines that point in the direction of the corresponding sentiment are calculated using a perpendicular line to the separation line calculated in the previous equations (neg function). It must point in the same direction as the derivative of the Logit function, but the magnitude may differ. It is only for a visual representation of the model. \n",
    "\n",
    "$$direction = pos * \\theta_2 / \\theta_1$$"
   ]
  },
  {
   "cell_type": "code",
   "execution_count": 61,
   "metadata": {},
   "outputs": [],
   "source": [
    "# It give a value in the negative axe as a function of a positive value\n",
    "# f(pos, neg, W) = w0 + w1 * pos + w2 * neg = 0\n",
    "# s(pos, W) = (-w0 - w1 * pos) / w2\n",
    "def neg(theta, pos):\n",
    "    return (-theta[0] - pos * theta[1]) / theta[2]\n",
    "\n",
    "# Equation for the direction of the sentiments change\n",
    "# We don't care about the magnitude of the change. We are only interested\n",
    "# in the direction. So this direction is just a perpendicular function to the\n",
    "# separation plane\n",
    "# df(pos, W) = pos * w2 / w1\n",
    "def direction(theta, pos):\n",
    "    return    pos * theta[2] / theta[1]\n"
   ]
  },
  {
   "cell_type": "code",
   "execution_count": 62,
   "metadata": {},
   "outputs": [
    {
     "name": "stderr",
     "output_type": "stream",
     "text": [
      "/tmp/ipykernel_47619/4057367353.py:7: DeprecationWarning: Conversion of an array with ndim > 0 to a scalar is deprecated, and will error in future. Ensure you extract a single element from your array before performing this operation. (Deprecated NumPy 1.25.)\n",
      "  ax.scatter(X[:,1], X[:,2], c=[colors[int(k)] for k in Y], s = 0.1)  # Plot a dot for each pair of words\n"
     ]
    },
    {
     "data": {
      "image/png": "[encoded data removed]",
      "text/plain": [
       "<Figure size 800x800 with 1 Axes>"
      ]
     },
     "metadata": {},
     "output_type": "display_data"
    }
   ],
   "source": [
    "# Plot the samples using columns 1 and 2 of the matrix\n",
    "fig, ax = plt.subplots(figsize = (8, 8))\n",
    "\n",
    "colors = ['red', 'green']\n",
    "\n",
    "# Color base on the sentiment Y\n",
    "ax.scatter(X[:,1], X[:,2], c=[colors[int(k)] for k in Y], s = 0.1)  # Plot a dot for each pair of words\n",
    "plt.xlabel(\"Positive\")\n",
    "plt.ylabel(\"Negative\")\n",
    "\n",
    "# Now lets represent the logistic regression model in this chart.\n",
    "maxpos = np.max(X[:,1])\n",
    "\n",
    "offset = 5000 # The pos value for the direction vectors origin\n",
    "\n",
    "# Plot a gray line that divides the 2 areas.\n",
    "ax.plot([0,  maxpos], [neg(theta, 0),   neg(theta, maxpos)], color = 'gray')\n",
    "\n",
    "# Plot a green line pointing to the positive direction\n",
    "ax.arrow(offset, neg(theta, offset), offset, direction(theta, offset), head_width=500, head_length=500, fc='g', ec='g')\n",
    "# Plot a red line pointing to the negative direction\n",
    "ax.arrow(offset, neg(theta, offset), -offset, -direction(theta, offset), head_width=500, head_length=500, fc='r', ec='r')\n",
    "\n",
    "plt.show()\n"
   ]
  },
  {
   "cell_type": "code",
   "execution_count": null,
   "metadata": {},
   "outputs": [],
   "source": []
  }
 ],
 "metadata": {
  "kernelspec": {
   "display_name": "Python 3",
   "language": "python",
   "name": "python3"
  },
  "language_info": {
   "codemirror_mode": {
    "name": "ipython",
    "version": 3
   },
   "file_extension": ".py",
   "mimetype": "text/x-python",
   "name": "python",
   "nbconvert_exporter": "python",
   "pygments_lexer": "ipython3",
   "version": "3.10.10"
  }
 },
 "nbformat": 4,
 "nbformat_minor": 2
}
